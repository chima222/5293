{
 "cells": [
  {
   "cell_type": "code",
   "execution_count": 1,
   "metadata": {},
   "outputs": [],
   "source": [
    "import pandas as pd\n",
    "import numpy as np\n",
    "from sklearn.model_selection import train_test_split\n",
    "from sklearn import linear_model\n",
    "from sklearn import preprocessing\n",
    "from sklearn.metrics import mean_squared_error\n",
    "from sklearn.tree import DecisionTreeRegressor\n",
    "from sklearn.tree import export_graphviz"
   ]
  },
  {
   "cell_type": "code",
   "execution_count": 2,
   "metadata": {},
   "outputs": [],
   "source": [
    "df = pd.read_excel(\"Assignment 2-3 Credit Model Data.xls\")"
   ]
  },
  {
   "cell_type": "markdown",
   "metadata": {},
   "source": [
    "# 1. Adjust CR column with 0/1"
   ]
  },
  {
   "cell_type": "markdown",
   "metadata": {},
   "source": [
    "Delete unnecessary columns and convert column CR"
   ]
  },
  {
   "cell_type": "code",
   "execution_count": 3,
   "metadata": {},
   "outputs": [],
   "source": [
    "df1 = df.drop([\"Exchange:Ticker\",\"S&P Entity ID\",\"Company Type\",\"Geographic Locations\",\"Company Name\"],axis = 1)\n",
    "df1_x = df1.iloc[:,:-1]\n",
    "df1_x = df1_x.replace(\"-\",np.nan)\n",
    "df1_x = df1_x.replace(\"NM\",np.nan)\n",
    "df1_x = df1_x.as_matrix()\n",
    "n_row = df1_x.shape[0]\n",
    "n_col = df1_x.shape[1]\n",
    "y = df.iloc[:,-1].as_matrix()\n",
    "for i in range(n_row):\n",
    "    if y[i] == \"-\":\n",
    "        y[i] = 0\n",
    "    else:\n",
    "        y[i] = 1\n"
   ]
  },
  {
   "cell_type": "markdown",
   "metadata": {},
   "source": [
    "# 2. Data Clean (Missing Values)"
   ]
  },
  {
   "cell_type": "markdown",
   "metadata": {},
   "source": [
    "Missing Values - Entire Row"
   ]
  },
  {
   "cell_type": "code",
   "execution_count": 4,
   "metadata": {},
   "outputs": [],
   "source": [
    "for i in range(n_row):\n",
    "    if not np.any(df1_x[i,]):\n",
    "        df1_x = np.delete(df1_x,i,0)\n"
   ]
  },
  {
   "cell_type": "markdown",
   "metadata": {},
   "source": [
    "Missing values - Entire Column"
   ]
  },
  {
   "cell_type": "code",
   "execution_count": 5,
   "metadata": {},
   "outputs": [],
   "source": [
    "for i in range(n_col):\n",
    "    if not np.any(df1_x[:,i]):\n",
    "        df1_x = np.delete(df1_x,i,1)\n",
    "    "
   ]
  },
  {
   "cell_type": "markdown",
   "metadata": {},
   "source": [
    "Missing value - if entire class is empty, randomly assign 0 or 1"
   ]
  },
  {
   "cell_type": "code",
   "execution_count": 6,
   "metadata": {},
   "outputs": [],
   "source": [
    "\n",
    "data_class = np.linspace(0,90,10).astype(int)\n",
    "for i in range(9):\n",
    "    for j in range(n_row):\n",
    "        if pd.isnull(df1_x[j,data_class[i]:data_class[i+1]]).all():\n",
    "            df1_x[j,data_class[i]:data_class[i+1]] =np.random.randint(2,size = 10)"
   ]
  },
  {
   "cell_type": "markdown",
   "metadata": {},
   "source": [
    "Missing value - forward fill or backward fill"
   ]
  },
  {
   "cell_type": "code",
   "execution_count": 7,
   "metadata": {},
   "outputs": [],
   "source": [
    "\n",
    "for i in range(9):\n",
    "    for j in range(n_row):\n",
    "        T_value = pd.isnull(df1_x[j,data_class[i]:data_class[i+1]])\n",
    "        F_value = np.logical_not(T_value)\n",
    "        if T_value[0] == True:\n",
    "            forward = np.where(F_value)[0][0]\n",
    "            df1_x[j,data_class[i]:data_class[i+1]][0:forward] = df1_x[j,data_class[i]:data_class[i+1]][forward]\n",
    "        if T_value[9] == True:\n",
    "            backward = np.where(F_value)[0][-1]\n",
    "            df1_x[j,data_class[i]:data_class[i+1]][backward+1:] = df1_x[j,data_class[i]:data_class[i+1]][backward]\n"
   ]
  },
  {
   "cell_type": "markdown",
   "metadata": {},
   "source": [
    "Missing value - fill average"
   ]
  },
  {
   "cell_type": "code",
   "execution_count": 8,
   "metadata": {},
   "outputs": [],
   "source": [
    "for i in range(9):\n",
    "    for j in range(n_row):\n",
    "        if np.isnan(df1_x[j,data_class[i]:data_class[i+1]]).any() == True:\n",
    "            T_value = np.isnan(df1_x[j,data_class[i]:data_class[i+1]])\n",
    "            idx = np.where(T_value)\n",
    "            df1_x[j,data_class[i]:data_class[i+1]][idx] = (df1_x[j,data_class[i]:data_class[i+1]][idx[0][0]-1]+df1_x[j,data_class[i]:data_class[i+1]][idx[0][-1]+1])/len(idx[0])"
   ]
  },
  {
   "cell_type": "markdown",
   "metadata": {},
   "source": [
    "Check if all points are filled and export X data "
   ]
  },
  {
   "cell_type": "code",
   "execution_count": 9,
   "metadata": {},
   "outputs": [],
   "source": [
    "np.isnan(df1_x).any()\n",
    "data_X = pd.DataFrame(df1_x)\n",
    "data_X.to_csv(\"outputX.csv\")"
   ]
  },
  {
   "cell_type": "markdown",
   "metadata": {},
   "source": [
    "# 3. Data split"
   ]
  },
  {
   "cell_type": "code",
   "execution_count": null,
   "metadata": {},
   "outputs": [],
   "source": [
    "x_train,x_test,y_train,y_test = train_test_split(df1_x, y,test_size=0.2,random_state = 1)\n"
   ]
  },
  {
   "cell_type": "markdown",
   "metadata": {},
   "source": [
    "# 4. Method 1: OLS"
   ]
  },
  {
   "cell_type": "markdown",
   "metadata": {},
   "source": [
    "Data split and preparation "
   ]
  },
  {
   "cell_type": "code",
   "execution_count": 23,
   "metadata": {},
   "outputs": [],
   "source": [
    "\n",
    "\n",
    "#average variable\n",
    "OLS_x_train = []\n",
    "OLS_x_test = []\n",
    "for i in range(9):\n",
    "    for j in range(len(x_train)):\n",
    "        OLS_x_train.append(np.average(x_train[j,data_class[i]:data_class[i+1]]))\n",
    "        \n",
    "for i in range(9):\n",
    "    for j in range(len(x_test)):\n",
    "        OLS_x_test.append(np.average(x_test[j,data_class[i]:data_class[i+1]]))\n",
    "        \n",
    "OLS_x_train = np.reshape(OLS_x_train, (8000,9))      \n",
    "OLS_x_test = np.reshape(OLS_x_test, (2000,9))\n",
    "\n",
    "# Last number\n",
    "# idx_col = np.linspace(9,89,9).astype(int)\n",
    "\n",
    "# OLS_x_train = []\n",
    "# OLS_x_test = []\n",
    "# for i in range(8):\n",
    "#     for j in range(len(x_train)):\n",
    "#                    OLS_x_train.append(x_train[j,idx_col[i]])\n",
    "# for i in range(8):\n",
    "#     for j in range(len(x_test)):\n",
    "#                    OLS_x_test.append(x_test[j,idx_col[i]])\n",
    "            \n",
    "# OLS_x_train = np.reshape(OLS_x_train,(8000,8))\n",
    "            \n",
    "# OLS_x_test = np.reshape(OLS_x_test,(2000,8))"
   ]
  },
  {
   "cell_type": "markdown",
   "metadata": {},
   "source": [
    "Train OLS model"
   ]
  },
  {
   "cell_type": "code",
   "execution_count": 24,
   "metadata": {},
   "outputs": [
    {
     "data": {
      "text/plain": [
       "LinearRegression(copy_X=True, fit_intercept=True, n_jobs=1, normalize=False)"
      ]
     },
     "execution_count": 24,
     "metadata": {},
     "output_type": "execute_result"
    }
   ],
   "source": [
    "OLS = linear_model.LinearRegression()\n",
    "OLS.fit(X=OLS_x_train,y=y_train)\n"
   ]
  },
  {
   "cell_type": "code",
   "execution_count": 25,
   "metadata": {},
   "outputs": [
    {
     "name": "stdout",
     "output_type": "stream",
     "text": [
      "R2 for training dataset: 0.0003 \n"
     ]
    }
   ],
   "source": [
    "R2_train = OLS.score(OLS_x_train,y_train)\n",
    "print(\"R2 for training dataset: %.4f \"% R2_train)"
   ]
  },
  {
   "cell_type": "code",
   "execution_count": 26,
   "metadata": {},
   "outputs": [
    {
     "name": "stdout",
     "output_type": "stream",
     "text": [
      "R2 for H dataset: -0.0003 \n",
      "MSE for H dataset: 0.0319 \n"
     ]
    }
   ],
   "source": [
    "R2_test = OLS.score(OLS_x_test,y_test)\n",
    "y_predict = OLS.predict(OLS_x_test)\n",
    "MSE_OLS = mean_squared_error(y_true = y_test, y_pred = y_predict)\n",
    "print(\"R2 for H dataset: %.4f \"% R2_test)\n",
    "print(\"MSE for H dataset: %.4f \"% MSE_OLS)"
   ]
  },
  {
   "cell_type": "markdown",
   "metadata": {},
   "source": [
    "# 5. Method 2: Regression Tree "
   ]
  },
  {
   "cell_type": "code",
   "execution_count": 27,
   "metadata": {},
   "outputs": [
    {
     "data": {
      "text/plain": [
       "DecisionTreeRegressor(criterion='mse', max_depth=8, max_features=None,\n",
       "           max_leaf_nodes=None, min_impurity_decrease=0.001,\n",
       "           min_impurity_split=None, min_samples_leaf=1,\n",
       "           min_samples_split=20, min_weight_fraction_leaf=0.0,\n",
       "           presort=False, random_state=None, splitter='best')"
      ]
     },
     "execution_count": 27,
     "metadata": {},
     "output_type": "execute_result"
    }
   ],
   "source": [
    "tree_model = DecisionTreeRegressor(max_depth=8,min_samples_split=20,min_impurity_decrease=0.001)\n",
    "tree_model.fit(x_train,y_train)"
   ]
  },
  {
   "cell_type": "code",
   "execution_count": 28,
   "metadata": {},
   "outputs": [
    {
     "name": "stdout",
     "output_type": "stream",
     "text": [
      "R2 for H dataset: 0.4544 \n",
      "MSE for H dataset: 0.0174 \n"
     ]
    }
   ],
   "source": [
    "y_predict2 = tree_model.predict(x_test)\n",
    "MSE_tree = mean_squared_error(y_test,y_predict2)\n",
    "R2_tree_test = tree_model.score(x_test,y_test)\n",
    "print(\"R2 for H dataset: %.4f \"% R2_tree_test)\n",
    "print(\"MSE for H dataset: %.4f \"% MSE_tree)"
   ]
  },
  {
   "cell_type": "markdown",
   "metadata": {},
   "source": [
    "# 6. Assess methods"
   ]
  },
  {
   "cell_type": "markdown",
   "metadata": {},
   "source": [
    "1)OLS doesn't work with our dataset. It has a close to 0 R2. This is reasonable since our dataset has too many missing points and we don't have a good way to fill them.\n",
    "\n",
    "2)Decision tree performs way better than OLS with 45.44% R2 and a almost 50% lower MSE.\n",
    "\n",
    "3)R2: Decision Tree is 45% more than OLS; MSE: Decision tree is 48% lower than OLS"
   ]
  }
 ],
 "metadata": {
  "kernelspec": {
   "display_name": "Python 3",
   "language": "python",
   "name": "python3"
  },
  "language_info": {
   "codemirror_mode": {
    "name": "ipython",
    "version": 3
   },
   "file_extension": ".py",
   "mimetype": "text/x-python",
   "name": "python",
   "nbconvert_exporter": "python",
   "pygments_lexer": "ipython3",
   "version": "3.6.3"
  }
 },
 "nbformat": 4,
 "nbformat_minor": 2
}
