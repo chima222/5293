{
 "cells": [
  {
   "cell_type": "code",
   "execution_count": 1,
   "metadata": {},
   "outputs": [],
   "source": [
    "import pandas as pd \n",
    "import numpy as np \n",
    "from sklearn.model_selection import train_test_split,cross_val_score,GridSearchCV\n",
    "from sklearn.tree import DecisionTreeRegressor,DecisionTreeClassifier\n",
    "from sklearn.ensemble import RandomForestRegressor,RandomForestClassifier\n",
    "from sklearn.metrics import mean_squared_error\n"
   ]
  },
  {
   "cell_type": "code",
   "execution_count": 2,
   "metadata": {},
   "outputs": [
    {
     "data": {
      "text/html": [
       "<div>\n",
       "<style>\n",
       "    .dataframe thead tr:only-child th {\n",
       "        text-align: right;\n",
       "    }\n",
       "\n",
       "    .dataframe thead th {\n",
       "        text-align: left;\n",
       "    }\n",
       "\n",
       "    .dataframe tbody tr th {\n",
       "        vertical-align: top;\n",
       "    }\n",
       "</style>\n",
       "<table border=\"1\" class=\"dataframe\">\n",
       "  <thead>\n",
       "    <tr style=\"text-align: right;\">\n",
       "      <th></th>\n",
       "      <th>Year</th>\n",
       "      <th>Month</th>\n",
       "      <th>DayofMonth</th>\n",
       "      <th>DayOfWeek</th>\n",
       "      <th>Carrier</th>\n",
       "      <th>OriginAirportID</th>\n",
       "      <th>DestAirportID</th>\n",
       "      <th>CRSDepTime</th>\n",
       "      <th>DepDelay</th>\n",
       "      <th>DepDel15</th>\n",
       "      <th>CRSArrTime</th>\n",
       "      <th>ArrDelay</th>\n",
       "      <th>ArrDel15</th>\n",
       "      <th>Cancelled</th>\n",
       "    </tr>\n",
       "  </thead>\n",
       "  <tbody>\n",
       "    <tr>\n",
       "      <th>0</th>\n",
       "      <td>2013</td>\n",
       "      <td>4</td>\n",
       "      <td>19</td>\n",
       "      <td>5</td>\n",
       "      <td>DL</td>\n",
       "      <td>11433</td>\n",
       "      <td>13303</td>\n",
       "      <td>837</td>\n",
       "      <td>-3.0</td>\n",
       "      <td>0.0</td>\n",
       "      <td>1138</td>\n",
       "      <td>1.0</td>\n",
       "      <td>0.0</td>\n",
       "      <td>0.0</td>\n",
       "    </tr>\n",
       "    <tr>\n",
       "      <th>1</th>\n",
       "      <td>2013</td>\n",
       "      <td>4</td>\n",
       "      <td>19</td>\n",
       "      <td>5</td>\n",
       "      <td>DL</td>\n",
       "      <td>14869</td>\n",
       "      <td>12478</td>\n",
       "      <td>1705</td>\n",
       "      <td>0.0</td>\n",
       "      <td>0.0</td>\n",
       "      <td>2336</td>\n",
       "      <td>-8.0</td>\n",
       "      <td>0.0</td>\n",
       "      <td>0.0</td>\n",
       "    </tr>\n",
       "    <tr>\n",
       "      <th>2</th>\n",
       "      <td>2013</td>\n",
       "      <td>4</td>\n",
       "      <td>19</td>\n",
       "      <td>5</td>\n",
       "      <td>DL</td>\n",
       "      <td>14057</td>\n",
       "      <td>14869</td>\n",
       "      <td>600</td>\n",
       "      <td>-4.0</td>\n",
       "      <td>0.0</td>\n",
       "      <td>851</td>\n",
       "      <td>-15.0</td>\n",
       "      <td>0.0</td>\n",
       "      <td>0.0</td>\n",
       "    </tr>\n",
       "    <tr>\n",
       "      <th>3</th>\n",
       "      <td>2013</td>\n",
       "      <td>4</td>\n",
       "      <td>19</td>\n",
       "      <td>5</td>\n",
       "      <td>DL</td>\n",
       "      <td>15016</td>\n",
       "      <td>11433</td>\n",
       "      <td>1630</td>\n",
       "      <td>28.0</td>\n",
       "      <td>1.0</td>\n",
       "      <td>1903</td>\n",
       "      <td>24.0</td>\n",
       "      <td>1.0</td>\n",
       "      <td>0.0</td>\n",
       "    </tr>\n",
       "    <tr>\n",
       "      <th>4</th>\n",
       "      <td>2013</td>\n",
       "      <td>4</td>\n",
       "      <td>19</td>\n",
       "      <td>5</td>\n",
       "      <td>DL</td>\n",
       "      <td>11193</td>\n",
       "      <td>12892</td>\n",
       "      <td>1615</td>\n",
       "      <td>-6.0</td>\n",
       "      <td>0.0</td>\n",
       "      <td>1805</td>\n",
       "      <td>-11.0</td>\n",
       "      <td>0.0</td>\n",
       "      <td>0.0</td>\n",
       "    </tr>\n",
       "  </tbody>\n",
       "</table>\n",
       "</div>"
      ],
      "text/plain": [
       "   Year  Month  DayofMonth  DayOfWeek Carrier  OriginAirportID  DestAirportID  \\\n",
       "0  2013      4          19          5      DL            11433          13303   \n",
       "1  2013      4          19          5      DL            14869          12478   \n",
       "2  2013      4          19          5      DL            14057          14869   \n",
       "3  2013      4          19          5      DL            15016          11433   \n",
       "4  2013      4          19          5      DL            11193          12892   \n",
       "\n",
       "   CRSDepTime  DepDelay  DepDel15  CRSArrTime  ArrDelay  ArrDel15  Cancelled  \n",
       "0         837      -3.0       0.0        1138       1.0       0.0        0.0  \n",
       "1        1705       0.0       0.0        2336      -8.0       0.0        0.0  \n",
       "2         600      -4.0       0.0         851     -15.0       0.0        0.0  \n",
       "3        1630      28.0       1.0        1903      24.0       1.0        0.0  \n",
       "4        1615      -6.0       0.0        1805     -11.0       0.0        0.0  "
      ]
     },
     "execution_count": 2,
     "metadata": {},
     "output_type": "execute_result"
    }
   ],
   "source": [
    "df = pd.read_csv(\"Flight Delays Data.csv\")\n",
    "df.head(5)"
   ]
  },
  {
   "cell_type": "markdown",
   "metadata": {},
   "source": [
    "# Step 1: Remove Unnecessary Rows and Columns"
   ]
  },
  {
   "cell_type": "code",
   "execution_count": 3,
   "metadata": {},
   "outputs": [
    {
     "data": {
      "text/html": [
       "<div>\n",
       "<style>\n",
       "    .dataframe thead tr:only-child th {\n",
       "        text-align: right;\n",
       "    }\n",
       "\n",
       "    .dataframe thead th {\n",
       "        text-align: left;\n",
       "    }\n",
       "\n",
       "    .dataframe tbody tr th {\n",
       "        vertical-align: top;\n",
       "    }\n",
       "</style>\n",
       "<table border=\"1\" class=\"dataframe\">\n",
       "  <thead>\n",
       "    <tr style=\"text-align: right;\">\n",
       "      <th></th>\n",
       "      <th>Year</th>\n",
       "      <th>Month</th>\n",
       "      <th>DayofMonth</th>\n",
       "      <th>DayOfWeek</th>\n",
       "      <th>Carrier</th>\n",
       "      <th>OriginAirportID</th>\n",
       "      <th>DestAirportID</th>\n",
       "      <th>CRSDepTime</th>\n",
       "      <th>DepDelay</th>\n",
       "      <th>CRSArrTime</th>\n",
       "      <th>ArrDelay</th>\n",
       "    </tr>\n",
       "  </thead>\n",
       "  <tbody>\n",
       "    <tr>\n",
       "      <th>0</th>\n",
       "      <td>2013</td>\n",
       "      <td>4</td>\n",
       "      <td>19</td>\n",
       "      <td>5</td>\n",
       "      <td>DL</td>\n",
       "      <td>11433</td>\n",
       "      <td>13303</td>\n",
       "      <td>837</td>\n",
       "      <td>-3.0</td>\n",
       "      <td>1138</td>\n",
       "      <td>1.0</td>\n",
       "    </tr>\n",
       "    <tr>\n",
       "      <th>1</th>\n",
       "      <td>2013</td>\n",
       "      <td>4</td>\n",
       "      <td>19</td>\n",
       "      <td>5</td>\n",
       "      <td>DL</td>\n",
       "      <td>14869</td>\n",
       "      <td>12478</td>\n",
       "      <td>1705</td>\n",
       "      <td>0.0</td>\n",
       "      <td>2336</td>\n",
       "      <td>-8.0</td>\n",
       "    </tr>\n",
       "    <tr>\n",
       "      <th>2</th>\n",
       "      <td>2013</td>\n",
       "      <td>4</td>\n",
       "      <td>19</td>\n",
       "      <td>5</td>\n",
       "      <td>DL</td>\n",
       "      <td>14057</td>\n",
       "      <td>14869</td>\n",
       "      <td>600</td>\n",
       "      <td>-4.0</td>\n",
       "      <td>851</td>\n",
       "      <td>-15.0</td>\n",
       "    </tr>\n",
       "    <tr>\n",
       "      <th>3</th>\n",
       "      <td>2013</td>\n",
       "      <td>4</td>\n",
       "      <td>19</td>\n",
       "      <td>5</td>\n",
       "      <td>DL</td>\n",
       "      <td>15016</td>\n",
       "      <td>11433</td>\n",
       "      <td>1630</td>\n",
       "      <td>28.0</td>\n",
       "      <td>1903</td>\n",
       "      <td>24.0</td>\n",
       "    </tr>\n",
       "    <tr>\n",
       "      <th>4</th>\n",
       "      <td>2013</td>\n",
       "      <td>4</td>\n",
       "      <td>19</td>\n",
       "      <td>5</td>\n",
       "      <td>DL</td>\n",
       "      <td>11193</td>\n",
       "      <td>12892</td>\n",
       "      <td>1615</td>\n",
       "      <td>-6.0</td>\n",
       "      <td>1805</td>\n",
       "      <td>-11.0</td>\n",
       "    </tr>\n",
       "  </tbody>\n",
       "</table>\n",
       "</div>"
      ],
      "text/plain": [
       "   Year  Month  DayofMonth  DayOfWeek Carrier  OriginAirportID  DestAirportID  \\\n",
       "0  2013      4          19          5      DL            11433          13303   \n",
       "1  2013      4          19          5      DL            14869          12478   \n",
       "2  2013      4          19          5      DL            14057          14869   \n",
       "3  2013      4          19          5      DL            15016          11433   \n",
       "4  2013      4          19          5      DL            11193          12892   \n",
       "\n",
       "   CRSDepTime  DepDelay  CRSArrTime  ArrDelay  \n",
       "0         837      -3.0        1138       1.0  \n",
       "1        1705       0.0        2336      -8.0  \n",
       "2         600      -4.0         851     -15.0  \n",
       "3        1630      28.0        1903      24.0  \n",
       "4        1615      -6.0        1805     -11.0  "
      ]
     },
     "execution_count": 3,
     "metadata": {},
     "output_type": "execute_result"
    }
   ],
   "source": [
    "df2 = df[df[\"Cancelled\"]!=1]\n",
    "df3 = df2.drop(df2.columns[[9,12,13]],axis = 1)\n",
    "df3.head(5)"
   ]
  },
  {
   "cell_type": "markdown",
   "metadata": {},
   "source": [
    "# Step2: Variable checking"
   ]
  },
  {
   "cell_type": "markdown",
   "metadata": {},
   "source": [
    "# a) Convert time values to datetime objects"
   ]
  },
  {
   "cell_type": "code",
   "execution_count": 4,
   "metadata": {},
   "outputs": [],
   "source": [
    "import datetime\n",
    "def fix_time(row):\n",
    "    x = row[\"CRSDepTime\"]\n",
    "    time_str = str(int(x)).zfill(4)\n",
    "    time_str_hour = int(time_str[0:2])\n",
    "    if time_str_hour == 24:\n",
    "        return 0\n",
    "    time_str_minute = int(time_str[2:])\n",
    "    \n",
    "    month = int(row[\"Month\"])\n",
    "    day = int(row[\"DayofMonth\"])\n",
    "    return datetime.datetime(2013,month,day,time_str_hour,time_str_minute)\n"
   ]
  },
  {
   "cell_type": "code",
   "execution_count": 5,
   "metadata": {},
   "outputs": [],
   "source": [
    "df3[\"CRSDepTime\"] = df3[['CRSDepTime','Month','DayofMonth']].apply(lambda row : fix_time(row), axis =1)\n"
   ]
  },
  {
   "cell_type": "code",
   "execution_count": 6,
   "metadata": {},
   "outputs": [],
   "source": [
    "def fix_time2(row):\n",
    "    x = row[\"CRSArrTime\"]\n",
    "    time_str = str(int(x)).zfill(4)\n",
    "    time_str_hour = int(time_str[0:2])\n",
    "    if time_str_hour == 24:\n",
    "        return 0\n",
    "    time_str_minute = int(time_str[2:])\n",
    "    \n",
    "    month = int(row[\"Month\"])\n",
    "    day = int(row[\"DayofMonth\"])\n",
    "    return datetime.datetime(2013,month,day,time_str_hour,time_str_minute)\n"
   ]
  },
  {
   "cell_type": "code",
   "execution_count": 7,
   "metadata": {},
   "outputs": [],
   "source": [
    "df3[\"CRSArrTime\"] = df3[['CRSArrTime','Month','DayofMonth']].apply(lambda row : fix_time2(row), axis =1)\n"
   ]
  },
  {
   "cell_type": "markdown",
   "metadata": {},
   "source": [
    "# b) Add FlightTime variable & Convert Carrier Variable"
   ]
  },
  {
   "cell_type": "code",
   "execution_count": 8,
   "metadata": {},
   "outputs": [],
   "source": [
    "df3[\"FlightTime\"] = 0\n",
    "count = 0\n",
    "for i in set(df3[\"Carrier\"]):\n",
    "    df3.loc[df3[\"Carrier\"] == i, \"Carrier\"] = count\n",
    "    count+=1\n"
   ]
  },
  {
   "cell_type": "code",
   "execution_count": 9,
   "metadata": {},
   "outputs": [
    {
     "data": {
      "text/html": [
       "<div>\n",
       "<style>\n",
       "    .dataframe thead tr:only-child th {\n",
       "        text-align: right;\n",
       "    }\n",
       "\n",
       "    .dataframe thead th {\n",
       "        text-align: left;\n",
       "    }\n",
       "\n",
       "    .dataframe tbody tr th {\n",
       "        vertical-align: top;\n",
       "    }\n",
       "</style>\n",
       "<table border=\"1\" class=\"dataframe\">\n",
       "  <thead>\n",
       "    <tr style=\"text-align: right;\">\n",
       "      <th></th>\n",
       "      <th>Year</th>\n",
       "      <th>Month</th>\n",
       "      <th>DayofMonth</th>\n",
       "      <th>DayOfWeek</th>\n",
       "      <th>Carrier</th>\n",
       "      <th>OriginAirportID</th>\n",
       "      <th>DestAirportID</th>\n",
       "      <th>CRSDepTime</th>\n",
       "      <th>DepDelay</th>\n",
       "      <th>CRSArrTime</th>\n",
       "      <th>ArrDelay</th>\n",
       "      <th>FlightTime</th>\n",
       "    </tr>\n",
       "  </thead>\n",
       "  <tbody>\n",
       "    <tr>\n",
       "      <th>0</th>\n",
       "      <td>2013</td>\n",
       "      <td>4</td>\n",
       "      <td>19</td>\n",
       "      <td>5</td>\n",
       "      <td>4</td>\n",
       "      <td>11433</td>\n",
       "      <td>13303</td>\n",
       "      <td>2013-04-19 08:37:00</td>\n",
       "      <td>-3.0</td>\n",
       "      <td>2013-04-19 11:38:00</td>\n",
       "      <td>1.0</td>\n",
       "      <td>0</td>\n",
       "    </tr>\n",
       "    <tr>\n",
       "      <th>1</th>\n",
       "      <td>2013</td>\n",
       "      <td>4</td>\n",
       "      <td>19</td>\n",
       "      <td>5</td>\n",
       "      <td>4</td>\n",
       "      <td>14869</td>\n",
       "      <td>12478</td>\n",
       "      <td>2013-04-19 17:05:00</td>\n",
       "      <td>0.0</td>\n",
       "      <td>2013-04-19 23:36:00</td>\n",
       "      <td>-8.0</td>\n",
       "      <td>0</td>\n",
       "    </tr>\n",
       "    <tr>\n",
       "      <th>2</th>\n",
       "      <td>2013</td>\n",
       "      <td>4</td>\n",
       "      <td>19</td>\n",
       "      <td>5</td>\n",
       "      <td>4</td>\n",
       "      <td>14057</td>\n",
       "      <td>14869</td>\n",
       "      <td>2013-04-19 06:00:00</td>\n",
       "      <td>-4.0</td>\n",
       "      <td>2013-04-19 08:51:00</td>\n",
       "      <td>-15.0</td>\n",
       "      <td>0</td>\n",
       "    </tr>\n",
       "    <tr>\n",
       "      <th>3</th>\n",
       "      <td>2013</td>\n",
       "      <td>4</td>\n",
       "      <td>19</td>\n",
       "      <td>5</td>\n",
       "      <td>4</td>\n",
       "      <td>15016</td>\n",
       "      <td>11433</td>\n",
       "      <td>2013-04-19 16:30:00</td>\n",
       "      <td>28.0</td>\n",
       "      <td>2013-04-19 19:03:00</td>\n",
       "      <td>24.0</td>\n",
       "      <td>0</td>\n",
       "    </tr>\n",
       "    <tr>\n",
       "      <th>4</th>\n",
       "      <td>2013</td>\n",
       "      <td>4</td>\n",
       "      <td>19</td>\n",
       "      <td>5</td>\n",
       "      <td>4</td>\n",
       "      <td>11193</td>\n",
       "      <td>12892</td>\n",
       "      <td>2013-04-19 16:15:00</td>\n",
       "      <td>-6.0</td>\n",
       "      <td>2013-04-19 18:05:00</td>\n",
       "      <td>-11.0</td>\n",
       "      <td>0</td>\n",
       "    </tr>\n",
       "    <tr>\n",
       "      <th>5</th>\n",
       "      <td>2013</td>\n",
       "      <td>4</td>\n",
       "      <td>19</td>\n",
       "      <td>5</td>\n",
       "      <td>4</td>\n",
       "      <td>10397</td>\n",
       "      <td>15016</td>\n",
       "      <td>2013-04-19 17:26:00</td>\n",
       "      <td>-1.0</td>\n",
       "      <td>2013-04-19 18:18:00</td>\n",
       "      <td>-19.0</td>\n",
       "      <td>0</td>\n",
       "    </tr>\n",
       "    <tr>\n",
       "      <th>6</th>\n",
       "      <td>2013</td>\n",
       "      <td>4</td>\n",
       "      <td>19</td>\n",
       "      <td>5</td>\n",
       "      <td>4</td>\n",
       "      <td>15016</td>\n",
       "      <td>10397</td>\n",
       "      <td>2013-04-19 19:00:00</td>\n",
       "      <td>0.0</td>\n",
       "      <td>2013-04-19 21:33:00</td>\n",
       "      <td>-1.0</td>\n",
       "      <td>0</td>\n",
       "    </tr>\n",
       "    <tr>\n",
       "      <th>7</th>\n",
       "      <td>2013</td>\n",
       "      <td>4</td>\n",
       "      <td>19</td>\n",
       "      <td>5</td>\n",
       "      <td>4</td>\n",
       "      <td>10397</td>\n",
       "      <td>14869</td>\n",
       "      <td>2013-04-19 21:45:00</td>\n",
       "      <td>15.0</td>\n",
       "      <td>2013-04-19 23:56:00</td>\n",
       "      <td>24.0</td>\n",
       "      <td>0</td>\n",
       "    </tr>\n",
       "    <tr>\n",
       "      <th>8</th>\n",
       "      <td>2013</td>\n",
       "      <td>4</td>\n",
       "      <td>19</td>\n",
       "      <td>5</td>\n",
       "      <td>4</td>\n",
       "      <td>10397</td>\n",
       "      <td>10423</td>\n",
       "      <td>2013-04-19 21:57:00</td>\n",
       "      <td>33.0</td>\n",
       "      <td>2013-04-19 23:33:00</td>\n",
       "      <td>34.0</td>\n",
       "      <td>0</td>\n",
       "    </tr>\n",
       "    <tr>\n",
       "      <th>9</th>\n",
       "      <td>2013</td>\n",
       "      <td>4</td>\n",
       "      <td>19</td>\n",
       "      <td>5</td>\n",
       "      <td>4</td>\n",
       "      <td>11278</td>\n",
       "      <td>10397</td>\n",
       "      <td>2013-04-19 19:00:00</td>\n",
       "      <td>323.0</td>\n",
       "      <td>2013-04-19 20:55:00</td>\n",
       "      <td>322.0</td>\n",
       "      <td>0</td>\n",
       "    </tr>\n",
       "  </tbody>\n",
       "</table>\n",
       "</div>"
      ],
      "text/plain": [
       "   Year  Month  DayofMonth  DayOfWeek Carrier  OriginAirportID  DestAirportID  \\\n",
       "0  2013      4          19          5       4            11433          13303   \n",
       "1  2013      4          19          5       4            14869          12478   \n",
       "2  2013      4          19          5       4            14057          14869   \n",
       "3  2013      4          19          5       4            15016          11433   \n",
       "4  2013      4          19          5       4            11193          12892   \n",
       "5  2013      4          19          5       4            10397          15016   \n",
       "6  2013      4          19          5       4            15016          10397   \n",
       "7  2013      4          19          5       4            10397          14869   \n",
       "8  2013      4          19          5       4            10397          10423   \n",
       "9  2013      4          19          5       4            11278          10397   \n",
       "\n",
       "           CRSDepTime  DepDelay          CRSArrTime  ArrDelay  FlightTime  \n",
       "0 2013-04-19 08:37:00      -3.0 2013-04-19 11:38:00       1.0           0  \n",
       "1 2013-04-19 17:05:00       0.0 2013-04-19 23:36:00      -8.0           0  \n",
       "2 2013-04-19 06:00:00      -4.0 2013-04-19 08:51:00     -15.0           0  \n",
       "3 2013-04-19 16:30:00      28.0 2013-04-19 19:03:00      24.0           0  \n",
       "4 2013-04-19 16:15:00      -6.0 2013-04-19 18:05:00     -11.0           0  \n",
       "5 2013-04-19 17:26:00      -1.0 2013-04-19 18:18:00     -19.0           0  \n",
       "6 2013-04-19 19:00:00       0.0 2013-04-19 21:33:00      -1.0           0  \n",
       "7 2013-04-19 21:45:00      15.0 2013-04-19 23:56:00      24.0           0  \n",
       "8 2013-04-19 21:57:00      33.0 2013-04-19 23:33:00      34.0           0  \n",
       "9 2013-04-19 19:00:00     323.0 2013-04-19 20:55:00     322.0           0  "
      ]
     },
     "execution_count": 9,
     "metadata": {},
     "output_type": "execute_result"
    }
   ],
   "source": [
    "df3.head(10)"
   ]
  },
  {
   "cell_type": "code",
   "execution_count": 10,
   "metadata": {},
   "outputs": [],
   "source": [
    "df4=df3.values"
   ]
  },
  {
   "cell_type": "code",
   "execution_count": 11,
   "metadata": {},
   "outputs": [],
   "source": [
    "for i in range(df4.shape[0]):\n",
    "    df4[i,11]=(df4[i,9]-df4[i,7]).total_seconds()/60\n"
   ]
  },
  {
   "cell_type": "markdown",
   "metadata": {},
   "source": [
    "# c) Convert negative DepDelay to 0"
   ]
  },
  {
   "cell_type": "code",
   "execution_count": 12,
   "metadata": {},
   "outputs": [],
   "source": [
    "for i in range(df4.shape[0]):\n",
    "        if df4[i,8] < 0:\n",
    "            df4[i,8] = 0"
   ]
  },
  {
   "cell_type": "markdown",
   "metadata": {},
   "source": [
    "# d) Delete Timestamp Variables"
   ]
  },
  {
   "cell_type": "code",
   "execution_count": 13,
   "metadata": {},
   "outputs": [],
   "source": [
    "df5 = np.delete(df4,[7,9],1)"
   ]
  },
  {
   "cell_type": "markdown",
   "metadata": {},
   "source": [
    "# Regression & RandomForest"
   ]
  },
  {
   "cell_type": "code",
   "execution_count": 14,
   "metadata": {},
   "outputs": [],
   "source": [
    "y = df5[:,7]\n",
    "X = np.delete(df5,7,1)"
   ]
  },
  {
   "cell_type": "code",
   "execution_count": 15,
   "metadata": {},
   "outputs": [],
   "source": [
    "X_train,X_test,y_train,y_test = train_test_split(X,y,test_size = 0.2, random_state = 42)"
   ]
  },
  {
   "cell_type": "code",
   "execution_count": 16,
   "metadata": {},
   "outputs": [
    {
     "data": {
      "text/plain": [
       "RandomForestRegressor(bootstrap=True, criterion='mse', max_depth=8,\n",
       "           max_features='auto', max_leaf_nodes=None,\n",
       "           min_impurity_decrease=0.01, min_impurity_split=None,\n",
       "           min_samples_leaf=1, min_samples_split=20,\n",
       "           min_weight_fraction_leaf=0.0, n_estimators=10, n_jobs=1,\n",
       "           oob_score=False, random_state=None, verbose=0, warm_start=False)"
      ]
     },
     "execution_count": 16,
     "metadata": {},
     "output_type": "execute_result"
    }
   ],
   "source": [
    "dt1 = DecisionTreeRegressor(max_depth = 8,min_samples_split = 20,min_impurity_decrease = 0.01)\n",
    "rf1 = RandomForestRegressor(max_depth = 8,min_samples_split = 20,min_impurity_decrease = 0.01)\n",
    "dt1.fit(X_train,y_train)\n",
    "rf1.fit(X_train,y_train)"
   ]
  },
  {
   "cell_type": "code",
   "execution_count": 17,
   "metadata": {},
   "outputs": [
    {
     "name": "stdout",
     "output_type": "stream",
     "text": [
      "Average cross-validation score for Regression Tree: 0.9269\n",
      "Average cross-validation score for Random Forest(Regression): 0.9274\n"
     ]
    }
   ],
   "source": [
    "dt1_scores = cross_val_score(dt1,X_train,y_train,cv=5) \n",
    "rf1_scores = cross_val_score(rf1,X_train,y_train,cv=5) \n",
    "print(\"Average cross-validation score for Regression Tree: {:.4f}\".format(dt1_scores.mean()))\n",
    "print(\"Average cross-validation score for Random Forest(Regression): {:.4f}\".format(rf1_scores.mean()))"
   ]
  },
  {
   "cell_type": "markdown",
   "metadata": {},
   "source": [
    "# Classification & RandomForest\n"
   ]
  },
  {
   "cell_type": "code",
   "execution_count": 18,
   "metadata": {},
   "outputs": [],
   "source": [
    "y2 = np.where(y>0,1,0)\n",
    "X_train,X_test,y_train2,y_test2 = train_test_split(X,y2,test_size = 0.2, random_state = 42)"
   ]
  },
  {
   "cell_type": "code",
   "execution_count": 19,
   "metadata": {},
   "outputs": [
    {
     "data": {
      "text/plain": [
       "RandomForestClassifier(bootstrap=True, class_weight=None, criterion='gini',\n",
       "            max_depth=8, max_features='auto', max_leaf_nodes=None,\n",
       "            min_impurity_decrease=0.01, min_impurity_split=None,\n",
       "            min_samples_leaf=1, min_samples_split=20,\n",
       "            min_weight_fraction_leaf=0.0, n_estimators=10, n_jobs=1,\n",
       "            oob_score=False, random_state=None, verbose=0,\n",
       "            warm_start=False)"
      ]
     },
     "execution_count": 19,
     "metadata": {},
     "output_type": "execute_result"
    }
   ],
   "source": [
    "dt2 = DecisionTreeClassifier(max_depth = 8,min_samples_split = 20,min_impurity_decrease = 0.01)\n",
    "rf2 = RandomForestClassifier(max_depth = 8,min_samples_split = 20,min_impurity_decrease = 0.01)\n",
    "dt2.fit(X_train,y_train2)\n",
    "rf2.fit(X_train,y_train2)"
   ]
  },
  {
   "cell_type": "code",
   "execution_count": 20,
   "metadata": {},
   "outputs": [
    {
     "name": "stdout",
     "output_type": "stream",
     "text": [
      "Average cross-validation score for Classification Tree: 0.7813\n",
      "Average cross-validation score for Random Forest(Classification): 0.7561\n"
     ]
    }
   ],
   "source": [
    "dt2_scores = cross_val_score(dt2,X_train,y_train2,cv=5) \n",
    "rf2_scores = cross_val_score(rf2,X_train,y_train2,cv=5) \n",
    "print(\"Average cross-validation score for Classification Tree: {:.4f}\".format(dt2_scores.mean()))\n",
    "print(\"Average cross-validation score for Random Forest(Classification): {:.4f}\".format(rf2_scores.mean()))"
   ]
  },
  {
   "cell_type": "markdown",
   "metadata": {},
   "source": [
    "# Evaluation"
   ]
  },
  {
   "cell_type": "markdown",
   "metadata": {},
   "source": [
    "# a) Regression Tree + Random Forest"
   ]
  },
  {
   "cell_type": "code",
   "execution_count": 21,
   "metadata": {},
   "outputs": [
    {
     "name": "stdout",
     "output_type": "stream",
     "text": [
      "MSE for Regression Tree: 89.4430\n",
      "MSE for Random Forest (Regression): 88.6433\n"
     ]
    }
   ],
   "source": [
    "y_pred_dt1 = dt1.predict(X_test)\n",
    "y_pred_rf1 = rf1.predict(X_test)\n",
    "MSE_dt1 = mean_squared_error(y_test,y_pred_dt1)\n",
    "MSE_rf1 = mean_squared_error(y_test,y_pred_rf1)\n",
    "print(\"MSE for Regression Tree: {:.4f}\".format(MSE_dt1))\n",
    "print(\"MSE for Random Forest (Regression): {:.4f}\".format(MSE_rf1))"
   ]
  },
  {
   "cell_type": "markdown",
   "metadata": {},
   "source": [
    "# b) Classification Tree + Random Forest"
   ]
  },
  {
   "cell_type": "code",
   "execution_count": 22,
   "metadata": {},
   "outputs": [
    {
     "name": "stdout",
     "output_type": "stream",
     "text": [
      "MSE for Regression Tree: 0.2184\n",
      "MSE for Random Forest (Regression): 0.2161\n"
     ]
    }
   ],
   "source": [
    "y_pred_dt2 = dt2.predict(X_test)\n",
    "y_pred_rf2 = rf2.predict(X_test)\n",
    "MSE_dt2 = mean_squared_error(y_test2,y_pred_dt2)\n",
    "MSE_rf2 = mean_squared_error(y_test2,y_pred_rf2)\n",
    "print(\"MSE for Regression Tree: {:.4f}\".format(MSE_dt2))\n",
    "print(\"MSE for Random Forest (Regression): {:.4f}\".format(MSE_rf2))"
   ]
  }
 ],
 "metadata": {
  "kernelspec": {
   "display_name": "Python 3",
   "language": "python",
   "name": "python3"
  },
  "language_info": {
   "codemirror_mode": {
    "name": "ipython",
    "version": 3
   },
   "file_extension": ".py",
   "mimetype": "text/x-python",
   "name": "python",
   "nbconvert_exporter": "python",
   "pygments_lexer": "ipython3",
   "version": "3.6.3"
  }
 },
 "nbformat": 4,
 "nbformat_minor": 2
}
